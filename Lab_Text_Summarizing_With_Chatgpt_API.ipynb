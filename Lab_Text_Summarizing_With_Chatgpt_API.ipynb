{
  "cells": [
    {
      "cell_type": "markdown",
      "metadata": {
        "id": "2_i8XduolYoW"
      },
      "source": [
        "# Text summarizing with ChaptGPT\n",
        "In this lesson, you will summarize text with a focus on specific topics.\n",
        "\n",
        "## Setup"
      ]
    },
    {
      "cell_type": "code",
      "source": [
        "# Step 1: Install the required packages\n",
        "!pip install python-dotenv  # Installs python-dotenv for loading .env\n",
        "!pip install openai         # Installs the OpenAI library\n",
        "\n",
        "# Step 2: Import necessary libraries\n",
        "import os\n",
        "from openai import OpenAI\n",
        "from dotenv import load_dotenv"
      ],
      "metadata": {
        "colab": {
          "base_uri": "https://localhost:8080/"
        },
        "id": "AUXHsLUlm7fl",
        "outputId": "e8ab3955-022e-456a-b37b-9aff3c3621cb"
      },
      "execution_count": 1,
      "outputs": [
        {
          "output_type": "stream",
          "name": "stdout",
          "text": [
            "Collecting python-dotenv\n",
            "  Downloading python_dotenv-1.1.0-py3-none-any.whl.metadata (24 kB)\n",
            "Downloading python_dotenv-1.1.0-py3-none-any.whl (20 kB)\n",
            "Installing collected packages: python-dotenv\n",
            "Successfully installed python-dotenv-1.1.0\n",
            "Requirement already satisfied: openai in /usr/local/lib/python3.11/dist-packages (1.68.2)\n",
            "Requirement already satisfied: anyio<5,>=3.5.0 in /usr/local/lib/python3.11/dist-packages (from openai) (4.9.0)\n",
            "Requirement already satisfied: distro<2,>=1.7.0 in /usr/local/lib/python3.11/dist-packages (from openai) (1.9.0)\n",
            "Requirement already satisfied: httpx<1,>=0.23.0 in /usr/local/lib/python3.11/dist-packages (from openai) (0.28.1)\n",
            "Requirement already satisfied: jiter<1,>=0.4.0 in /usr/local/lib/python3.11/dist-packages (from openai) (0.9.0)\n",
            "Requirement already satisfied: pydantic<3,>=1.9.0 in /usr/local/lib/python3.11/dist-packages (from openai) (2.10.6)\n",
            "Requirement already satisfied: sniffio in /usr/local/lib/python3.11/dist-packages (from openai) (1.3.1)\n",
            "Requirement already satisfied: tqdm>4 in /usr/local/lib/python3.11/dist-packages (from openai) (4.67.1)\n",
            "Requirement already satisfied: typing-extensions<5,>=4.11 in /usr/local/lib/python3.11/dist-packages (from openai) (4.12.2)\n",
            "Requirement already satisfied: idna>=2.8 in /usr/local/lib/python3.11/dist-packages (from anyio<5,>=3.5.0->openai) (3.10)\n",
            "Requirement already satisfied: certifi in /usr/local/lib/python3.11/dist-packages (from httpx<1,>=0.23.0->openai) (2025.1.31)\n",
            "Requirement already satisfied: httpcore==1.* in /usr/local/lib/python3.11/dist-packages (from httpx<1,>=0.23.0->openai) (1.0.7)\n",
            "Requirement already satisfied: h11<0.15,>=0.13 in /usr/local/lib/python3.11/dist-packages (from httpcore==1.*->httpx<1,>=0.23.0->openai) (0.14.0)\n",
            "Requirement already satisfied: annotated-types>=0.6.0 in /usr/local/lib/python3.11/dist-packages (from pydantic<3,>=1.9.0->openai) (0.7.0)\n",
            "Requirement already satisfied: pydantic-core==2.27.2 in /usr/local/lib/python3.11/dist-packages (from pydantic<3,>=1.9.0->openai) (2.27.2)\n"
          ]
        }
      ]
    },
    {
      "cell_type": "code",
      "execution_count": 3,
      "metadata": {
        "tags": [],
        "id": "tMDrG4dIlYoY"
      },
      "outputs": [],
      "source": [
        "_ = load_dotenv(\"/content/env\") # read local .env file\n",
        "\n",
        "OPENAI_API_KEY  = os.getenv('OPENAI_API_KEY')"
      ]
    },
    {
      "cell_type": "code",
      "execution_count": 4,
      "metadata": {
        "tags": [],
        "id": "ol2VmtQclYoZ"
      },
      "outputs": [],
      "source": [
        "client = OpenAI(\n",
        "    # This is the default and can be omitted\n",
        "    api_key=OPENAI_API_KEY,\n",
        ")\n",
        "\n",
        "\n",
        "def get_completion(prompt, model=\"gpt-3.5-turbo\"): # Andrew mentioned that the prompt/ completion paradigm is preferable for this class\n",
        "    messages = [{\"role\": \"user\", \"content\": prompt}]\n",
        "    response = client.chat.completions.create(\n",
        "        model=model,\n",
        "        messages=messages,\n",
        "        temperature=0, # this is the degree of randomness of the model's output\n",
        "    )\n",
        "    return response.choices[0].message.content\n"
      ]
    },
    {
      "cell_type": "markdown",
      "metadata": {
        "id": "RaiBVhTFlYoZ"
      },
      "source": [
        "## Text to summarize"
      ]
    },
    {
      "cell_type": "code",
      "execution_count": 5,
      "metadata": {
        "tags": [],
        "id": "h40v97pDlYoa"
      },
      "outputs": [],
      "source": [
        "prod_review = \"\"\"\n",
        "Got this panda plush toy for my daughter's birthday, \\\n",
        "who loves it and takes it everywhere. It's soft and \\\n",
        "super cute, and its face has a friendly look. It's \\\n",
        "a bit small for what I paid though. I think there \\\n",
        "might be other options that are bigger for the \\\n",
        "same price. It arrived a day earlier than expected, \\\n",
        "so I got to play with it myself before I gave it \\\n",
        "to her.\n",
        "\"\"\""
      ]
    },
    {
      "cell_type": "markdown",
      "metadata": {
        "id": "IIbsiJkPlYoa"
      },
      "source": [
        "## Summarize with a word/sentence/character limit"
      ]
    },
    {
      "cell_type": "code",
      "execution_count": 6,
      "metadata": {
        "tags": [],
        "colab": {
          "base_uri": "https://localhost:8080/"
        },
        "id": "kZFjPp-DlYoa",
        "outputId": "fe59df0b-82b3-40c0-d4a8-f00b1b8fe605"
      },
      "outputs": [
        {
          "output_type": "stream",
          "name": "stdout",
          "text": [
            "Summary: \n",
            "Soft and cute panda plush toy loved by daughter, but smaller than expected for the price. Arrived early, allowing for personal enjoyment before gifting.\n"
          ]
        }
      ],
      "source": [
        "prompt = f\"\"\"\n",
        "Your task is to generate a short summary of a product \\\n",
        "review from an ecommerce site.\n",
        "\n",
        "Summarize the review below, delimited by triple\n",
        "backticks, in at most 30 words.\n",
        "\n",
        "Review: ```{prod_review}```\n",
        "\"\"\"\n",
        "\n",
        "response = get_completion(prompt)\n",
        "print(response)\n"
      ]
    },
    {
      "cell_type": "markdown",
      "metadata": {
        "id": "FQt3QdDdlYob"
      },
      "source": [
        "## Summarize with a focus on shipping and delivery"
      ]
    },
    {
      "cell_type": "code",
      "execution_count": 7,
      "metadata": {
        "tags": [],
        "colab": {
          "base_uri": "https://localhost:8080/"
        },
        "id": "_pUiyp-qlYoc",
        "outputId": "c8bd7e12-2629-47a6-87f9-de1ed3badb67"
      },
      "outputs": [
        {
          "output_type": "stream",
          "name": "stdout",
          "text": [
            "The customer loved the panda plush toy for their daughter's birthday, but felt it was a bit small for the price. Shipping was faster than expected.\n"
          ]
        }
      ],
      "source": [
        "prompt = f\"\"\"\n",
        "Your task is to generate a short summary of a product \\\n",
        "review from an ecommerce site to give feedback to the \\\n",
        "Shipping deparmtment.\n",
        "\n",
        "Summarize the review below, delimited by triple\n",
        "backticks, in at most 30 words, and focusing on any aspects \\\n",
        "that mention shipping and delivery of the product.\n",
        "\n",
        "Review: ```{prod_review}```\n",
        "\"\"\"\n",
        "\n",
        "response = get_completion(prompt)\n",
        "print(response)\n"
      ]
    },
    {
      "cell_type": "markdown",
      "metadata": {
        "id": "1hDhKix2lYoc"
      },
      "source": [
        "## Summarize with a focus on price and value"
      ]
    },
    {
      "cell_type": "code",
      "execution_count": 8,
      "metadata": {
        "tags": [],
        "colab": {
          "base_uri": "https://localhost:8080/"
        },
        "id": "pVNpigU0lYoc",
        "outputId": "31ca7245-f481-46a7-dfca-efd608cfb133"
      },
      "outputs": [
        {
          "output_type": "stream",
          "name": "stdout",
          "text": [
            "The panda plush toy is loved for its softness and cuteness, but some customers feel it's a bit small for the price.\n"
          ]
        }
      ],
      "source": [
        "prompt = f\"\"\"\n",
        "Your task is to generate a short summary of a product \\\n",
        "review from an ecommerce site to give feedback to the \\\n",
        "pricing deparmtment, responsible for determining the \\\n",
        "price of the product.\n",
        "\n",
        "Summarize the review below, delimited by triple\n",
        "backticks, in at most 30 words, and focusing on any aspects \\\n",
        "that are relevant to the price and perceived value.\n",
        "\n",
        "Review: ```{prod_review}```\n",
        "\"\"\"\n",
        "\n",
        "response = get_completion(prompt)\n",
        "print(response)\n"
      ]
    },
    {
      "cell_type": "markdown",
      "metadata": {
        "id": "KtaFSC1ilYoc"
      },
      "source": [
        "#### Comment\n",
        "- Summaries include topics that are not related to the topic of focus."
      ]
    },
    {
      "cell_type": "markdown",
      "metadata": {
        "id": "JaATGiiRlYod"
      },
      "source": [
        "## Try \"extract\" instead of \"summarize\""
      ]
    },
    {
      "cell_type": "code",
      "execution_count": 9,
      "metadata": {
        "tags": [],
        "colab": {
          "base_uri": "https://localhost:8080/"
        },
        "id": "lvqeiDZPlYod",
        "outputId": "de693e12-cfb2-42ea-aa40-cd0132c28772"
      },
      "outputs": [
        {
          "output_type": "stream",
          "name": "stdout",
          "text": [
            "Feedback: The product arrived a day earlier than expected, allowing the customer to play with it before giving it as a gift.\n"
          ]
        }
      ],
      "source": [
        "prompt = f\"\"\"\n",
        "Your task is to extract relevant information from \\\n",
        "a product review from an ecommerce site to give \\\n",
        "feedback to the Shipping department.\n",
        "\n",
        "From the review below, delimited by triple quotes \\\n",
        "extract the information relevant to shipping and \\\n",
        "delivery. Limit to 30 words.\n",
        "\n",
        "Review: ```{prod_review}```\n",
        "\"\"\"\n",
        "\n",
        "response = get_completion(prompt)\n",
        "print(response)"
      ]
    },
    {
      "cell_type": "markdown",
      "metadata": {
        "id": "pWHhjTs5lYod"
      },
      "source": [
        "## Summarize multiple product reviews"
      ]
    },
    {
      "cell_type": "code",
      "execution_count": null,
      "metadata": {
        "tags": [],
        "id": "sKieVhCHlYod"
      },
      "outputs": [],
      "source": [
        "\n",
        "review_1 = prod_review\n",
        "\n",
        "# review for a standing lamp\n",
        "review_2 = \"\"\"\n",
        "Needed a nice lamp for my bedroom, and this one \\\n",
        "had additional storage and not too high of a price \\\n",
        "point. Got it fast - arrived in 2 days. The string \\\n",
        "to the lamp broke during the transit and the company \\\n",
        "happily sent over a new one. Came within a few days \\\n",
        "as well. It was easy to put together. Then I had a \\\n",
        "missing part, so I contacted their support and they \\\n",
        "very quickly got me the missing piece! Seems to me \\\n",
        "to be a great company that cares about their customers \\\n",
        "and products.\n",
        "\"\"\"\n",
        "\n",
        "# review for an electric toothbrush\n",
        "review_3 = \"\"\"\n",
        "My dental hygienist recommended an electric toothbrush, \\\n",
        "which is why I got this. The battery life seems to be \\\n",
        "pretty impressive so far. After initial charging and \\\n",
        "leaving the charger plugged in for the first week to \\\n",
        "condition the battery, I've unplugged the charger and \\\n",
        "been using it for twice daily brushing for the last \\\n",
        "3 weeks all on the same charge. But the toothbrush head \\\n",
        "is too small. I’ve seen baby toothbrushes bigger than \\\n",
        "this one. I wish the head was bigger with different \\\n",
        "length bristles to get between teeth better because \\\n",
        "this one doesn’t.  Overall if you can get this one \\\n",
        "around the $50 mark, it's a good deal. The manufactuer's \\\n",
        "replacements heads are pretty expensive, but you can \\\n",
        "get generic ones that're more reasonably priced. This \\\n",
        "toothbrush makes me feel like I've been to the dentist \\\n",
        "every day. My teeth feel sparkly clean!\n",
        "\"\"\"\n",
        "\n",
        "# review for a blender\n",
        "review_4 = \"\"\"\n",
        "So, they still had the 17 piece system on seasonal \\\n",
        "sale for around $49 in the month of November, about \\\n",
        "half off, but for some reason (call it price gouging) \\\n",
        "around the second week of December the prices all went \\\n",
        "up to about anywhere from between $70-$89 for the same \\\n",
        "system. And the 11 piece system went up around $10 or \\\n",
        "so in price also from the earlier sale price of $29. \\\n",
        "So it looks okay, but if you look at the base, the part \\\n",
        "where the blade locks into place doesn’t look as good \\\n",
        "as in previous editions from a few years ago, but I \\\n",
        "plan to be very gentle with it (example, I crush \\\n",
        "very hard items like beans, ice, rice, etc. in the \\\n",
        "blender first then pulverize them in the serving size \\\n",
        "I want in the blender then switch to the whipping \\\n",
        "blade for a finer flour, and use the cross cutting blade \\\n",
        "first when making smoothies, then use the flat blade \\\n",
        "if I need them finer/less pulpy). Special tip when making \\\n",
        "smoothies, finely cut and freeze the fruits and \\\n",
        "vegetables (if using spinach-lightly stew soften the \\\n",
        "spinach then freeze until ready for use-and if making \\\n",
        "sorbet, use a small to medium sized food processor) \\\n",
        "that you plan to use that way you can avoid adding so \\\n",
        "much ice if at all-when making your smoothie. \\\n",
        "After about a year, the motor was making a funny noise. \\\n",
        "I called customer service but the warranty expired \\\n",
        "already, so I had to buy another one. FYI: The overall \\\n",
        "quality has gone done in these types of products, so \\\n",
        "they are kind of counting on brand recognition and \\\n",
        "consumer loyalty to maintain sales. Got it in about \\\n",
        "two days.\n",
        "\"\"\"\n",
        "\n",
        "reviews = [review_1, review_2, review_3, review_4]"
      ]
    },
    {
      "cell_type": "code",
      "execution_count": null,
      "metadata": {
        "tags": [],
        "id": "vzeN9D02lYoe",
        "outputId": "9691a1b6-a045-4e8f-e045-dbecb25ab291"
      },
      "outputs": [
        {
          "name": "stdout",
          "output_type": "stream",
          "text": [
            "0 Summary: \n",
            "Adorable panda plush loved by daughter, but small for price. Arrived early, soft and cute. \n",
            "\n",
            "1 Great lamp with storage, fast delivery, excellent customer service for missing parts. Easy to assemble. \n",
            "\n",
            "2 Impressive battery life, small brush head, good deal for $50, generic replacement heads available, leaves teeth feeling clean. \n",
            "\n",
            "3 Prices fluctuated, quality declined, motor issues after a year, frozen fruits tip for smoothies, brand loyalty. \n",
            "\n"
          ]
        }
      ],
      "source": [
        "for i in range(len(reviews)):\n",
        "    prompt = f\"\"\"\n",
        "    Your task is to generate a short summary of a product \\\n",
        "    review from an ecommerce site.\n",
        "\n",
        "    Summarize the review below, delimited by triple \\\n",
        "    backticks in at most 20 words.\n",
        "\n",
        "    Review: ```{reviews[i]}```\n",
        "    \"\"\"\n",
        "\n",
        "    response = get_completion(prompt)\n",
        "    print(i, response, \"\\n\")"
      ]
    },
    {
      "cell_type": "markdown",
      "metadata": {
        "id": "S3kzqgRmlYoe"
      },
      "source": [
        "# Exercise\n",
        " - Complete the prompts similar to what we did in class.\n",
        "     - Try at least 3 versions\n",
        "     - Be creative\n",
        " - Write a one page report summarizing your findings.\n",
        "     - Were there variations that didn't work well? i.e., where GPT either hallucinated or wrong\n",
        " - What did you learn?"
      ]
    },
    {
      "cell_type": "markdown",
      "source": [
        "#**New Product Review**"
      ],
      "metadata": {
        "id": "Dj-sJOmqxf4A"
      }
    },
    {
      "cell_type": "code",
      "execution_count": 11,
      "metadata": {
        "id": "e6-4ZQNmlYoe"
      },
      "outputs": [],
      "source": [
        "prod_review = \"\"\"\n",
        "Bought this wireless earbud set for my morning runs. \\\n",
        "Sound quality is crisp, and they stay in place even when I sweat. \\\n",
        "Pairing was a breeze—connected to my phone in seconds. \\\n",
        "Battery life is decent, about 6 hours, but the case takes forever to charge fully, which is annoying. \\\n",
        "They arrived in a beat-up box, though the earbuds were fine. \\\n",
        "For $80, I expected a bit more polish, but they get the job done. \\\n",
        "Been using them for two weeks now, no regrets so far. \\\n",
        "\"\"\""
      ]
    },
    {
      "cell_type": "markdown",
      "source": [
        "#**Technique 1: Summarize as a 5-Star Rating Breakdown**"
      ],
      "metadata": {
        "id": "-O8h9F8pxmW5"
      }
    },
    {
      "cell_type": "code",
      "source": [
        "prompt = f\"\"\"\n",
        "Summarize the review below as a 5-star rating breakdown (e.g., Sound: 4/5) for key aspects, in max 25 words.\n",
        "Review: ```{prod_review}```\n",
        "\"\"\"\n",
        "response = get_completion(prompt)\n",
        "print(response)"
      ],
      "metadata": {
        "colab": {
          "base_uri": "https://localhost:8080/"
        },
        "id": "nr66lsyYxjLy",
        "outputId": "53d99194-12aa-4060-8e58-6fc997bf0e06"
      },
      "execution_count": 12,
      "outputs": [
        {
          "output_type": "stream",
          "name": "stdout",
          "text": [
            "Sound: 5/5\n",
            "Comfort: 5/5\n",
            "Connectivity: 5/5\n",
            "Battery Life: 4/5\n",
            "Charging Time: 3/5\n",
            "Packaging: 3/5\n",
            "Value for Money: 4/5\n"
          ]
        }
      ]
    },
    {
      "cell_type": "markdown",
      "source": [
        "#**Technique 2.1: Extract Sentiment with a Single Emoji**"
      ],
      "metadata": {
        "id": "5jqJ2uU0y9V3"
      }
    },
    {
      "cell_type": "code",
      "source": [
        "prompt = f\"\"\"\n",
        "Your task is to extract key sentiments from a product review from an ecommerce site.\n",
        "From the review below, delimited by triple backticks, identify key sentiments.\n",
        "Pair each sentiment word with its matching emoji (e.g., great 😊).\n",
        "Limit the output to 20 words.\n",
        "Review: ```{prod_review}```\n",
        "\"\"\"\n",
        "response = get_completion(prompt)\n",
        "print(response)"
      ],
      "metadata": {
        "colab": {
          "base_uri": "https://localhost:8080/"
        },
        "id": "uOSBQX-hy8jm",
        "outputId": "567707f0-c6b8-421e-93f3-577accc04df2"
      },
      "execution_count": 14,
      "outputs": [
        {
          "output_type": "stream",
          "name": "stdout",
          "text": [
            "- crisp sound quality 👌\n",
            "- stay in place during workouts 💪\n",
            "- easy pairing process 🔄\n",
            "- decent battery life ⚡\n",
            "- slow charging case ⏳\n",
            "- arrived in beat-up box 📦\n",
            "- expected more polish for $80 💸\n",
            "- no regrets after two weeks of use 🙌\n"
          ]
        }
      ]
    },
    {
      "cell_type": "markdown",
      "source": [
        "#**Technique 2.2: Extract Sentiment and Aspect with Binary Emoji**"
      ],
      "metadata": {
        "id": "1gA7k4Mp6qfW"
      }
    },
    {
      "cell_type": "code",
      "source": [
        "prompt = f\"\"\"\n",
        "Your task is to extract key sentiments from a product review from an ecommerce site.\n",
        "From the review below, delimited by triple backticks, identify key sentiments.\n",
        "For each sentiment, use two emojis: one for the aspect (e.g., sound 🎵), one for its sentiment (e.g., positive 👍).\n",
        "Limit the output to 20 words.\n",
        "Review: ```{prod_review}```\n",
        "\"\"\"\n",
        "response = get_completion(prompt)\n",
        "print(response)"
      ],
      "metadata": {
        "colab": {
          "base_uri": "https://localhost:8080/"
        },
        "id": "XG_o5ypj6f3S",
        "outputId": "82c108ae-5fc4-4d8a-9eee-e2254716a4c8"
      },
      "execution_count": 17,
      "outputs": [
        {
          "output_type": "stream",
          "name": "stdout",
          "text": [
            "- sound 🎵: positive 👍\n",
            "- fit 👂: positive 👍\n",
            "- pairing 🔗: positive 👍\n",
            "- battery 🔋: mixed 🤷\n",
            "- charging ⏳: negative 👎\n",
            "- packaging 📦: negative 👎\n",
            "- value 💰: mixed 🤷\n",
            "- durability 💪: positive 👍\n",
            "- usage 🕒: positive 👍\n",
            "- satisfaction 😊: positive 👍\n"
          ]
        }
      ]
    },
    {
      "cell_type": "markdown",
      "source": [
        "#**Technique 2.3: Extract Sentiment, Aspect, and Contextual Tone with Triple Emoji**"
      ],
      "metadata": {
        "id": "bOcjqC2N8Z7R"
      }
    },
    {
      "cell_type": "code",
      "source": [
        "prompt = f\"\"\"\n",
        "Your task is to extract key sentiments from a product review from an ecommerce site.\n",
        "From the review below, delimited by triple backticks, identify key sentiments.\n",
        "List each as a word pair (e.g., Damaged box) followed by three emojis: aspect (e.g., 📦), context (e.g., 😐), sentiment (e.g., 👎).\n",
        "Limit the output to 20 words..\n",
        "Review: ```{prod_review}```\n",
        "\"\"\"\n",
        "response = get_completion(prompt)\n",
        "print(response)"
      ],
      "metadata": {
        "colab": {
          "base_uri": "https://localhost:8080/"
        },
        "id": "o1WOmOQ49Cbe",
        "outputId": "61bcaade-a625-48ca-b3de-c1dcfcd820aa"
      },
      "execution_count": 18,
      "outputs": [
        {
          "output_type": "stream",
          "name": "stdout",
          "text": [
            "- Sound quality: 🎵, 🏃, 👍\n",
            "- Comfort: 😅, 📱, 👍\n",
            "- Pairing process: 🔄, ⏳, 👍\n",
            "- Battery life: 🔋, ⏳, 😐\n",
            "- Charging case: 🔋, 😤, 👎\n",
            "- Packaging: 📦, 😕, 👎\n",
            "- Value for money: 💰, 😐, 👍\n"
          ]
        }
      ]
    },
    {
      "cell_type": "markdown",
      "source": [
        "#**Technique 3: Summarize as a \"What’s Hot, What’s Not\" List**"
      ],
      "metadata": {
        "id": "5_rKXXvf0AvF"
      }
    },
    {
      "cell_type": "code",
      "source": [
        "prompt = f\"\"\"\n",
        "Summarize the review below as a 'What’s Hot, What’s Not' list, focusing on pros and cons, in max 30 words.\n",
        "Review: ```{prod_review}```\n",
        "\"\"\"\n",
        "response = get_completion(prompt)\n",
        "print(response)"
      ],
      "metadata": {
        "colab": {
          "base_uri": "https://localhost:8080/"
        },
        "id": "XRvqot8k00vo",
        "outputId": "1032b7cc-196e-4897-8353-e4b884d7197a"
      },
      "execution_count": 15,
      "outputs": [
        {
          "output_type": "stream",
          "name": "stdout",
          "text": [
            "What’s Hot: Crisp sound quality, stays in place during runs, easy pairing.\n",
            "What’s Not: Slow charging case, beat-up packaging, lack of polish for $80 price.\n"
          ]
        }
      ]
    },
    {
      "cell_type": "markdown",
      "source": [
        "#**Technique 4: Summarize as a \"3-Word Snapshot\" with Context**"
      ],
      "metadata": {
        "id": "hs61Dhlf4Fuh"
      }
    },
    {
      "cell_type": "code",
      "source": [
        "prompt = f\"\"\"\n",
        "Your task is to summarize a product review from an ecommerce site.\n",
        "From the review below, delimited by triple backticks, select three key descriptive words.\n",
        "Follow with a context sentence explaining them.\n",
        "Limit the output to 30 words.\n",
        "Review: ```{prod_review}```\n",
        "\"\"\"\n",
        "response = get_completion(prompt)\n",
        "print(response)"
      ],
      "metadata": {
        "colab": {
          "base_uri": "https://localhost:8080/"
        },
        "id": "d2gFSm0w4J1w",
        "outputId": "6b99fb91-aaf4-4809-95b6-7cd4c94a8fc3"
      },
      "execution_count": 16,
      "outputs": [
        {
          "output_type": "stream",
          "name": "stdout",
          "text": [
            "Key words: crisp, secure, decent\n",
            "The wireless earbuds provide crisp sound quality, stay secure during runs, and have a decent battery life of about 6 hours.\n"
          ]
        }
      ]
    },
    {
      "cell_type": "markdown",
      "source": [
        "\n",
        "# **Product Review Summarization Techniques Evaluation**\n",
        "\n",
        "## **Overview**:\n",
        "This experiment tested various techniques for summarizing a product review using structured rating breakdowns, emoji-based sentiment extraction, and concise summarization formats.\n",
        "\n",
        "## **Techniques and Observations:**\n",
        "\n",
        "### **1. 5-Star Rating Breakdown:**\n",
        "- Strengths: Clear, structured, and easily comparable.\n",
        "- Weaknesses: Lacks qualitative insights about why specific scores were given.\n",
        "\n",
        "### **2. Sentiment Extraction**:\n",
        "#### **2.1** Extract Sentiment with a **Single Emoji:**\n",
        "- Strengths: Quick emotional cues with minimal words.\n",
        "- Weaknesses: Context can be ambiguous without the aspect mentioned.\n",
        "\n",
        "#### **2.2** Extract Sentiment and Aspect with **Binary Emoji:**\n",
        "- Strengths: Adds clarity by explicitly linking an aspect with a sentiment.\n",
        "- Weaknesses: Some aspects had unclear ratings (e.g., \"value\" as mixed).\n",
        "\n",
        "#### **2.3** Extract Sentiment, Aspect and Contextual Tone with **Triple Emoji:**\n",
        "- Strengths: Provides richer insights into how and why a sentiment exists.\n",
        "- Weaknesses: Requires more cognitive effort to interpret.\n",
        "\n",
        "### **3. “What’s Hot, What’s Not” List:**\n",
        "- Strengths: Straightforward, user-friendly, and useful for quick decision-making.\n",
        "- Weaknesses: Can omit nuanced opinions or mixed experiences.\n",
        "\n",
        "### **4. “3-Word Snapshot” with Context:**\n",
        "- Strengths: Highly concise, capturing the essence of the review.\n",
        "- Weaknesses: Risk of oversimplification, losing critical details.\n",
        "\n",
        "## **Errors or Hallucinations:**\n",
        "- No major hallucinations observed, but some techniques (e.g., sentiment extraction) occasionally oversimplified mixed opinions (e.g., battery life rated as \"mixed\" without elaboration).\n",
        "- “Value for money” sentiment was inconsistent across formats.\n",
        "\n",
        "## **Key Takeaways:**\n",
        "- Structured rating breakdowns are great for comparisons.\n",
        "- Emoji-based sentiment analysis is effective but needs balance between brevity and clarity.\n",
        "- Context-driven summaries (e.g., “What’s Hot, What’s Not”) are practical for decision-making.\n",
        "- Balance between conciseness and detail is crucial depending on use case.\n"
      ],
      "metadata": {
        "id": "GJ4TxURYBOgt"
      }
    }
  ],
  "metadata": {
    "kernelspec": {
      "display_name": "Python 3 (ipykernel)",
      "language": "python",
      "name": "python3"
    },
    "language_info": {
      "codemirror_mode": {
        "name": "ipython",
        "version": 3
      },
      "file_extension": ".py",
      "mimetype": "text/x-python",
      "name": "python",
      "nbconvert_exporter": "python",
      "pygments_lexer": "ipython3",
      "version": "3.11.8"
    },
    "colab": {
      "provenance": []
    }
  },
  "nbformat": 4,
  "nbformat_minor": 0
}